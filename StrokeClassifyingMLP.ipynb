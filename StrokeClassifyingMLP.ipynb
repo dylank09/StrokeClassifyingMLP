{
  "nbformat": 4,
  "nbformat_minor": 0,
  "metadata": {
    "colab": {
      "name": "CS4287_Prj1_18227023_17233453.ipynb",
      "provenance": [],
      "collapsed_sections": []
    },
    "interpreter": {
      "hash": "639e9cd4bdad712cd2a7c4c9b53f658627a24355d3f9e4cdd83ed32a6a8b3c7f"
    },
    "kernelspec": {
      "display_name": "Python 3.9.7 64-bit",
      "name": "python3"
    },
    "language_info": {
      "codemirror_mode": {
        "name": "ipython",
        "version": 3
      },
      "file_extension": ".py",
      "mimetype": "text/x-python",
      "name": "python",
      "nbconvert_exporter": "python",
      "pygments_lexer": "ipython3",
      "version": "3.9.7"
    }
  },
  "cells": [
    {
      "cell_type": "code",
      "metadata": {
        "id": "fj4l74Ll34qu"
      },
      "source": [
        "# Dylan Kearney - 18227023, Cyiaph McCann - 17233453\n",
        "# The code executes to the end without an error.\n",
        "# Data pre-processing guide: https://medium.com/geekculture/stroke-prediction-d26c15f9d1\n",
        "# Keras classification guide: https://www.bmc.com/blogs/keras-neural-network-classification/"
      ],
      "execution_count": 4,
      "outputs": []
    },
    {
      "cell_type": "code",
      "metadata": {
        "id": "Xu_BxZTp5pX1"
      },
      "source": [
        "import pandas as pd\n",
        "import seaborn as sns\n",
        "import numpy as np\n",
        "import matplotlib.pyplot as plt\n",
        "from sklearn.model_selection import train_test_split\n",
        "from sklearn.preprocessing import StandardScaler, LabelEncoder\n",
        "from keras.models import Sequential\n",
        "from tensorflow.keras.optimizers import Adam\n",
        "from keras.layers import Dense\n",
        "from keras.callbacks import EarlyStopping"
      ],
      "execution_count": 5,
      "outputs": []
    },
    {
      "cell_type": "markdown",
      "metadata": {
        "id": "HL1Lt_iqhxQa"
      },
      "source": [
        "# Dataset"
      ]
    },
    {
      "cell_type": "code",
      "metadata": {
        "id": "izPYYW1vxuz5"
      },
      "source": [
        "strokeData = pd.read_csv(\"healthcare-dataset-stroke-data.csv\")"
      ],
      "execution_count": 6,
      "outputs": []
    },
    {
      "cell_type": "markdown",
      "metadata": {
        "id": "iEADSuSjh0X6"
      },
      "source": [
        "Investigate the data.\n",
        "\n",
        "The dataset has rich features, and 5110 rows. This seems sufficiently large.\n",
        "We noticed that the count is 5110 for all the columns except for BMI, \n",
        "therefore there must be some missing values."
      ]
    },
    {
      "cell_type": "code",
      "metadata": {
        "colab": {
          "base_uri": "https://localhost:8080/",
          "height": 300
        },
        "id": "AKtPLH-fB4bK",
        "outputId": "92fcac88-c3bd-4cae-8814-347ab80d590d"
      },
      "source": [
        "strokeData.describe()"
      ],
      "execution_count": 7,
      "outputs": [
        {
          "output_type": "execute_result",
          "data": {
            "text/html": [
              "<div>\n",
              "<style scoped>\n",
              "    .dataframe tbody tr th:only-of-type {\n",
              "        vertical-align: middle;\n",
              "    }\n",
              "\n",
              "    .dataframe tbody tr th {\n",
              "        vertical-align: top;\n",
              "    }\n",
              "\n",
              "    .dataframe thead th {\n",
              "        text-align: right;\n",
              "    }\n",
              "</style>\n",
              "<table border=\"1\" class=\"dataframe\">\n",
              "  <thead>\n",
              "    <tr style=\"text-align: right;\">\n",
              "      <th></th>\n",
              "      <th>id</th>\n",
              "      <th>age</th>\n",
              "      <th>hypertension</th>\n",
              "      <th>heart_disease</th>\n",
              "      <th>avg_glucose_level</th>\n",
              "      <th>bmi</th>\n",
              "      <th>stroke</th>\n",
              "    </tr>\n",
              "  </thead>\n",
              "  <tbody>\n",
              "    <tr>\n",
              "      <th>count</th>\n",
              "      <td>5110.000000</td>\n",
              "      <td>5110.000000</td>\n",
              "      <td>5110.000000</td>\n",
              "      <td>5110.000000</td>\n",
              "      <td>5110.000000</td>\n",
              "      <td>4909.000000</td>\n",
              "      <td>5110.000000</td>\n",
              "    </tr>\n",
              "    <tr>\n",
              "      <th>mean</th>\n",
              "      <td>36517.829354</td>\n",
              "      <td>43.226614</td>\n",
              "      <td>0.097456</td>\n",
              "      <td>0.054012</td>\n",
              "      <td>106.147677</td>\n",
              "      <td>28.893237</td>\n",
              "      <td>0.048728</td>\n",
              "    </tr>\n",
              "    <tr>\n",
              "      <th>std</th>\n",
              "      <td>21161.721625</td>\n",
              "      <td>22.612647</td>\n",
              "      <td>0.296607</td>\n",
              "      <td>0.226063</td>\n",
              "      <td>45.283560</td>\n",
              "      <td>7.854067</td>\n",
              "      <td>0.215320</td>\n",
              "    </tr>\n",
              "    <tr>\n",
              "      <th>min</th>\n",
              "      <td>67.000000</td>\n",
              "      <td>0.080000</td>\n",
              "      <td>0.000000</td>\n",
              "      <td>0.000000</td>\n",
              "      <td>55.120000</td>\n",
              "      <td>10.300000</td>\n",
              "      <td>0.000000</td>\n",
              "    </tr>\n",
              "    <tr>\n",
              "      <th>25%</th>\n",
              "      <td>17741.250000</td>\n",
              "      <td>25.000000</td>\n",
              "      <td>0.000000</td>\n",
              "      <td>0.000000</td>\n",
              "      <td>77.245000</td>\n",
              "      <td>23.500000</td>\n",
              "      <td>0.000000</td>\n",
              "    </tr>\n",
              "    <tr>\n",
              "      <th>50%</th>\n",
              "      <td>36932.000000</td>\n",
              "      <td>45.000000</td>\n",
              "      <td>0.000000</td>\n",
              "      <td>0.000000</td>\n",
              "      <td>91.885000</td>\n",
              "      <td>28.100000</td>\n",
              "      <td>0.000000</td>\n",
              "    </tr>\n",
              "    <tr>\n",
              "      <th>75%</th>\n",
              "      <td>54682.000000</td>\n",
              "      <td>61.000000</td>\n",
              "      <td>0.000000</td>\n",
              "      <td>0.000000</td>\n",
              "      <td>114.090000</td>\n",
              "      <td>33.100000</td>\n",
              "      <td>0.000000</td>\n",
              "    </tr>\n",
              "    <tr>\n",
              "      <th>max</th>\n",
              "      <td>72940.000000</td>\n",
              "      <td>82.000000</td>\n",
              "      <td>1.000000</td>\n",
              "      <td>1.000000</td>\n",
              "      <td>271.740000</td>\n",
              "      <td>97.600000</td>\n",
              "      <td>1.000000</td>\n",
              "    </tr>\n",
              "  </tbody>\n",
              "</table>\n",
              "</div>"
            ],
            "text/plain": [
              "                 id          age  ...          bmi       stroke\n",
              "count   5110.000000  5110.000000  ...  4909.000000  5110.000000\n",
              "mean   36517.829354    43.226614  ...    28.893237     0.048728\n",
              "std    21161.721625    22.612647  ...     7.854067     0.215320\n",
              "min       67.000000     0.080000  ...    10.300000     0.000000\n",
              "25%    17741.250000    25.000000  ...    23.500000     0.000000\n",
              "50%    36932.000000    45.000000  ...    28.100000     0.000000\n",
              "75%    54682.000000    61.000000  ...    33.100000     0.000000\n",
              "max    72940.000000    82.000000  ...    97.600000     1.000000\n",
              "\n",
              "[8 rows x 7 columns]"
            ]
          },
          "metadata": {},
          "execution_count": 7
        }
      ]
    },
    {
      "cell_type": "markdown",
      "metadata": {
        "id": "O9Mvu3GsiC8J"
      },
      "source": [
        "We investigated the data types and if the columns have null values or not"
      ]
    },
    {
      "cell_type": "code",
      "metadata": {
        "colab": {
          "base_uri": "https://localhost:8080/"
        },
        "id": "zFmAozQjCCwc",
        "outputId": "7e9415bf-e9d1-4333-fb18-062098b64176"
      },
      "source": [
        "strokeData.info()"
      ],
      "execution_count": 8,
      "outputs": [
        {
          "output_type": "stream",
          "name": "stdout",
          "text": [
            "<class 'pandas.core.frame.DataFrame'>\n",
            "RangeIndex: 5110 entries, 0 to 5109\n",
            "Data columns (total 12 columns):\n",
            " #   Column             Non-Null Count  Dtype  \n",
            "---  ------             --------------  -----  \n",
            " 0   id                 5110 non-null   int64  \n",
            " 1   gender             5110 non-null   object \n",
            " 2   age                5110 non-null   float64\n",
            " 3   hypertension       5110 non-null   int64  \n",
            " 4   heart_disease      5110 non-null   int64  \n",
            " 5   ever_married       5110 non-null   object \n",
            " 6   work_type          5110 non-null   object \n",
            " 7   Residence_type     5110 non-null   object \n",
            " 8   avg_glucose_level  5110 non-null   float64\n",
            " 9   bmi                4909 non-null   float64\n",
            " 10  smoking_status     5110 non-null   object \n",
            " 11  stroke             5110 non-null   int64  \n",
            "dtypes: float64(3), int64(4), object(5)\n",
            "memory usage: 479.2+ KB\n"
          ]
        }
      ]
    },
    {
      "cell_type": "markdown",
      "metadata": {
        "id": "tkW0HdV-iHzS"
      },
      "source": [
        "### Visualisation\n",
        "We wanted to visualise the correlation of the data; \n",
        "try see which variables might indicate a the likelyhood stroke"
      ]
    },
    {
      "cell_type": "code",
      "metadata": {
        "colab": {
          "base_uri": "https://localhost:8080/",
          "height": 573
        },
        "id": "BpF8KaxUCLY5",
        "outputId": "f8cabead-64b0-4f3c-d8d9-500eec1630ab"
      },
      "source": [
        "plt.figure(figsize=(16,10))\n",
        "sns.heatmap(strokeData.corr(method='pearson'), annot=True)"
      ],
      "execution_count": 9,
      "outputs": [
        {
          "output_type": "execute_result",
          "data": {
            "text/plain": [
              "<matplotlib.axes._subplots.AxesSubplot at 0x7fdd4c8786d0>"
            ]
          },
          "metadata": {},
          "execution_count": 9
        },
        {
          "output_type": "display_data",
          "data": {
            "image/png": "[encoded data removed]",
            "text/plain": [
              "<Figure size 1152x720 with 2 Axes>"
            ]
          },
          "metadata": {
            "needs_background": "light"
          }
        }
      ]
    },
    {
      "cell_type": "markdown",
      "metadata": {
        "id": "WecLKUV-NIe1"
      },
      "source": [
        "We wanted to compare the distribution of ages in the dataset. We are happy with the distribution as it seems quite even across the historgram."
      ]
    },
    {
      "cell_type": "code",
      "metadata": {
        "colab": {
          "base_uri": "https://localhost:8080/",
          "height": 283
        },
        "id": "saK88lMtNHw4",
        "outputId": "850f77df-f76c-4605-b2da-5ef6545cfad5"
      },
      "source": [
        "strokeData['age'].hist(bins=70)"
      ],
      "execution_count": 10,
      "outputs": [
        {
          "output_type": "execute_result",
          "data": {
            "text/plain": [
              "<matplotlib.axes._subplots.AxesSubplot at 0x7fdd441cb910>"
            ]
          },
          "metadata": {},
          "execution_count": 10
        },
        {
          "output_type": "display_data",
          "data": {
            "image/png": "[encoded data removed]",
            "text/plain": [
              "<Figure size 432x288 with 1 Axes>"
            ]
          },
          "metadata": {
            "needs_background": "light"
          }
        }
      ]
    },
    {
      "cell_type": "markdown",
      "metadata": {
        "id": "W8VrsUePLXGg"
      },
      "source": [
        "We noticed that there might be a good correlation between age and having a stroke.\n",
        "The scatter plot below confirms our suspicion as it shows strokes are more common above the age of 40 and only a few occur under the age of 40."
      ]
    },
    {
      "cell_type": "code",
      "metadata": {
        "colab": {
          "base_uri": "https://localhost:8080/",
          "height": 297
        },
        "id": "ld5x71U_6zyh",
        "outputId": "a6d05278-789f-40b6-d636-55723b3d8617"
      },
      "source": [
        "sns.scatterplot(x=strokeData['age'], y=strokeData['stroke'])"
      ],
      "execution_count": 11,
      "outputs": [
        {
          "output_type": "execute_result",
          "data": {
            "text/plain": [
              "<matplotlib.axes._subplots.AxesSubplot at 0x7fdd440939d0>"
            ]
          },
          "metadata": {},
          "execution_count": 11
        },
        {
          "output_type": "display_data",
          "data": {
            "image/png": "[encoded data removed]",
            "text/plain": [
              "<Figure size 432x288 with 1 Axes>"
            ]
          },
          "metadata": {
            "needs_background": "light"
          }
        }
      ]
    },
    {
      "cell_type": "code",
      "metadata": {
        "colab": {
          "base_uri": "https://localhost:8080/",
          "height": 297
        },
        "id": "ij60kmDVMpDe",
        "outputId": "56cbe3ee-af36-49fc-f645-6076695bd47f"
      },
      "source": [
        "sns.scatterplot(x=strokeData['age'], y=strokeData['bmi'])"
      ],
      "execution_count": 12,
      "outputs": [
        {
          "output_type": "execute_result",
          "data": {
            "text/plain": [
              "<matplotlib.axes._subplots.AxesSubplot at 0x7fdd43586d50>"
            ]
          },
          "metadata": {},
          "execution_count": 12
        },
        {
          "output_type": "display_data",
          "data": {
            "image/png": "[encoded data removed]",
            "text/plain": [
              "<Figure size 432x288 with 1 Axes>"
            ]
          },
          "metadata": {
            "needs_background": "light"
          }
        }
      ]
    },
    {
      "cell_type": "code",
      "metadata": {
        "colab": {
          "base_uri": "https://localhost:8080/",
          "height": 353
        },
        "id": "KRw6YGdi43p2",
        "outputId": "bb48cf9c-8cc0-4bb5-85b4-0446eabc3e49"
      },
      "source": [
        "sns.countplot(strokeData['work_type'])"
      ],
      "execution_count": 13,
      "outputs": [
        {
          "output_type": "stream",
          "name": "stderr",
          "text": [
            "/usr/local/lib/python3.7/dist-packages/seaborn/_decorators.py:43: FutureWarning: Pass the following variable as a keyword arg: x. From version 0.12, the only valid positional argument will be `data`, and passing other arguments without an explicit keyword will result in an error or misinterpretation.\n",
            "  FutureWarning\n"
          ]
        },
        {
          "output_type": "execute_result",
          "data": {
            "text/plain": [
              "<matplotlib.axes._subplots.AxesSubplot at 0x7fdd4405d850>"
            ]
          },
          "metadata": {},
          "execution_count": 13
        },
        {
          "output_type": "display_data",
          "data": {
            "image/png": "[encoded data removed]",
            "text/plain": [
              "<Figure size 432x288 with 1 Axes>"
            ]
          },
          "metadata": {
            "needs_background": "light"
          }
        }
      ]
    },
    {
      "cell_type": "markdown",
      "metadata": {
        "id": "ci9efyw76QUw"
      },
      "source": [
        "Next we compare the number of strokes with number of people that had no strokes.\n",
        "\n",
        "We see there is a big imbalance in the data and this must be solved before performing the MLP"
      ]
    },
    {
      "cell_type": "code",
      "metadata": {
        "colab": {
          "base_uri": "https://localhost:8080/"
        },
        "id": "eOrWkQwdsGq1",
        "outputId": "cce06ee9-96f1-40e4-ddc7-4ecb3c91256a"
      },
      "source": [
        "strokeData['stroke'].value_counts()"
      ],
      "execution_count": 14,
      "outputs": [
        {
          "output_type": "execute_result",
          "data": {
            "text/plain": [
              "0    4861\n",
              "1     249\n",
              "Name: stroke, dtype: int64"
            ]
          },
          "metadata": {},
          "execution_count": 14
        }
      ]
    },
    {
      "cell_type": "code",
      "metadata": {
        "colab": {
          "base_uri": "https://localhost:8080/",
          "height": 351
        },
        "id": "mJTszdZu6MRJ",
        "outputId": "bed63797-292d-48dc-a77e-0da7cd61f9ef"
      },
      "source": [
        "sns.countplot(strokeData['stroke'])"
      ],
      "execution_count": 15,
      "outputs": [
        {
          "output_type": "stream",
          "name": "stderr",
          "text": [
            "/usr/local/lib/python3.7/dist-packages/seaborn/_decorators.py:43: FutureWarning: Pass the following variable as a keyword arg: x. From version 0.12, the only valid positional argument will be `data`, and passing other arguments without an explicit keyword will result in an error or misinterpretation.\n",
            "  FutureWarning\n"
          ]
        },
        {
          "output_type": "execute_result",
          "data": {
            "text/plain": [
              "<matplotlib.axes._subplots.AxesSubplot at 0x7fdd434caa10>"
            ]
          },
          "metadata": {},
          "execution_count": 15
        },
        {
          "output_type": "display_data",
          "data": {
            "image/png": "[encoded data removed]",
            "text/plain": [
              "<Figure size 432x288 with 1 Axes>"
            ]
          },
          "metadata": {
            "needs_background": "light"
          }
        }
      ]
    },
    {
      "cell_type": "markdown",
      "metadata": {
        "id": "VcZw7f2Si3Vg"
      },
      "source": [
        "### Data-preprocessing"
      ]
    },
    {
      "cell_type": "markdown",
      "metadata": {
        "id": "EckBtvmji-Ai"
      },
      "source": [
        "Here we count how many missing values are in the columns "
      ]
    },
    {
      "cell_type": "code",
      "metadata": {
        "id": "KSR8CVJ8QNL1",
        "colab": {
          "base_uri": "https://localhost:8080/"
        },
        "outputId": "f39d4513-73fc-42be-caf2-42b95c3cabd3"
      },
      "source": [
        "strokeData.isna().sum()"
      ],
      "execution_count": 16,
      "outputs": [
        {
          "output_type": "execute_result",
          "data": {
            "text/plain": [
              "id                     0\n",
              "gender                 0\n",
              "age                    0\n",
              "hypertension           0\n",
              "heart_disease          0\n",
              "ever_married           0\n",
              "work_type              0\n",
              "Residence_type         0\n",
              "avg_glucose_level      0\n",
              "bmi                  201\n",
              "smoking_status         0\n",
              "stroke                 0\n",
              "dtype: int64"
            ]
          },
          "metadata": {},
          "execution_count": 16
        }
      ]
    },
    {
      "cell_type": "markdown",
      "metadata": {
        "id": "jGUvgxXzjDuv"
      },
      "source": [
        "Replace missing values in BMI column with the value of mean of BMI"
      ]
    },
    {
      "cell_type": "code",
      "metadata": {
        "id": "9963KMn5QNL2"
      },
      "source": [
        "strokeData['bmi'] = strokeData['bmi'].fillna(strokeData['bmi'].mean())"
      ],
      "execution_count": 17,
      "outputs": []
    },
    {
      "cell_type": "markdown",
      "metadata": {
        "id": "v1sA7MG4jIkL"
      },
      "source": [
        "Drop ID column as it does not have meaningful information. The row number works as a unique identifier"
      ]
    },
    {
      "cell_type": "code",
      "metadata": {
        "id": "zF3Js94EQNL3"
      },
      "source": [
        "strokeData = strokeData.drop(columns = 'id')"
      ],
      "execution_count": 18,
      "outputs": []
    },
    {
      "cell_type": "markdown",
      "metadata": {
        "id": "0RSOte2rjR1Q"
      },
      "source": [
        "Next we count how many of each gender there is in the set"
      ]
    },
    {
      "cell_type": "code",
      "metadata": {
        "colab": {
          "base_uri": "https://localhost:8080/"
        },
        "id": "ctwecgVTyz90",
        "outputId": "ea5a6196-eec5-4776-bd3b-9f2595cfbc93"
      },
      "source": [
        "strokeData['gender'].value_counts()"
      ],
      "execution_count": 19,
      "outputs": [
        {
          "output_type": "execute_result",
          "data": {
            "text/plain": [
              "Female    2994\n",
              "Male      2115\n",
              "Other        1\n",
              "Name: gender, dtype: int64"
            ]
          },
          "metadata": {},
          "execution_count": 19
        }
      ]
    },
    {
      "cell_type": "markdown",
      "metadata": {
        "id": "uAxB1QNtja8P"
      },
      "source": [
        "We noticed there is just one gender \"Other\" so we replace it so that it doesn't skew the data"
      ]
    },
    {
      "cell_type": "code",
      "metadata": {
        "id": "G28Cpsi65dw-",
        "colab": {
          "base_uri": "https://localhost:8080/"
        },
        "outputId": "1813af69-e372-44ef-e7db-1397e1dc80ff"
      },
      "source": [
        "strokeData['gender'] = strokeData['gender'].replace('Other', list(strokeData.gender.mode().values)[0])\n",
        "strokeData.gender.value_counts()"
      ],
      "execution_count": 20,
      "outputs": [
        {
          "output_type": "execute_result",
          "data": {
            "text/plain": [
              "Female    2995\n",
              "Male      2115\n",
              "Name: gender, dtype: int64"
            ]
          },
          "metadata": {},
          "execution_count": 20
        }
      ]
    },
    {
      "cell_type": "markdown",
      "metadata": {
        "id": "FvU0OCnmjjhj"
      },
      "source": [
        "Here we encode the data to numbers so that the model can interpret it. For example, gender becomes zero and one instead of male and female."
      ]
    },
    {
      "cell_type": "code",
      "metadata": {
        "id": "27gRFZZIkHzo"
      },
      "source": [
        "obtype=['gender','ever_married','work_type','Residence_type','smoking_status']\n",
        "gen_encode=LabelEncoder()\n",
        "mar_encode=LabelEncoder()\n",
        "work_encode=LabelEncoder()\n",
        "res_encode=LabelEncoder()\n",
        "smo_encode=LabelEncoder()\n",
        "strokeData['gender'] = gen_encode.fit_transform(\n",
        "    strokeData['gender'])\n",
        "strokeData['ever_married'] = mar_encode.fit_transform(\n",
        "    strokeData['ever_married'])\n",
        "strokeData['work_type'] = work_encode.fit_transform(\n",
        "    strokeData['work_type'])\n",
        "strokeData['Residence_type'] = res_encode.fit_transform(\n",
        "    strokeData['Residence_type'])\n",
        "strokeData['smoking_status'] = smo_encode.fit_transform(\n",
        "    strokeData['smoking_status'])\n"
      ],
      "execution_count": 21,
      "outputs": []
    },
    {
      "cell_type": "markdown",
      "metadata": {
        "id": "_-3-8cA-jvtT"
      },
      "source": [
        "Next we investigate what the data looks like now that the data is encoded and preprocessed."
      ]
    },
    {
      "cell_type": "code",
      "metadata": {
        "id": "LA1A7Cd0km-2",
        "colab": {
          "base_uri": "https://localhost:8080/",
          "height": 163
        },
        "outputId": "47cf187c-5657-40e4-ae65-7372e8fbbb4e"
      },
      "source": [
        "strokeData.head(3)"
      ],
      "execution_count": 22,
      "outputs": [
        {
          "output_type": "execute_result",
          "data": {
            "text/html": [
              "<div>\n",
              "<style scoped>\n",
              "    .dataframe tbody tr th:only-of-type {\n",
              "        vertical-align: middle;\n",
              "    }\n",
              "\n",
              "    .dataframe tbody tr th {\n",
              "        vertical-align: top;\n",
              "    }\n",
              "\n",
              "    .dataframe thead th {\n",
              "        text-align: right;\n",
              "    }\n",
              "</style>\n",
              "<table border=\"1\" class=\"dataframe\">\n",
              "  <thead>\n",
              "    <tr style=\"text-align: right;\">\n",
              "      <th></th>\n",
              "      <th>gender</th>\n",
              "      <th>age</th>\n",
              "      <th>hypertension</th>\n",
              "      <th>heart_disease</th>\n",
              "      <th>ever_married</th>\n",
              "      <th>work_type</th>\n",
              "      <th>Residence_type</th>\n",
              "      <th>avg_glucose_level</th>\n",
              "      <th>bmi</th>\n",
              "      <th>smoking_status</th>\n",
              "      <th>stroke</th>\n",
              "    </tr>\n",
              "  </thead>\n",
              "  <tbody>\n",
              "    <tr>\n",
              "      <th>0</th>\n",
              "      <td>1</td>\n",
              "      <td>67.0</td>\n",
              "      <td>0</td>\n",
              "      <td>1</td>\n",
              "      <td>1</td>\n",
              "      <td>2</td>\n",
              "      <td>1</td>\n",
              "      <td>228.69</td>\n",
              "      <td>36.600000</td>\n",
              "      <td>1</td>\n",
              "      <td>1</td>\n",
              "    </tr>\n",
              "    <tr>\n",
              "      <th>1</th>\n",
              "      <td>0</td>\n",
              "      <td>61.0</td>\n",
              "      <td>0</td>\n",
              "      <td>0</td>\n",
              "      <td>1</td>\n",
              "      <td>3</td>\n",
              "      <td>0</td>\n",
              "      <td>202.21</td>\n",
              "      <td>28.893237</td>\n",
              "      <td>2</td>\n",
              "      <td>1</td>\n",
              "    </tr>\n",
              "    <tr>\n",
              "      <th>2</th>\n",
              "      <td>1</td>\n",
              "      <td>80.0</td>\n",
              "      <td>0</td>\n",
              "      <td>1</td>\n",
              "      <td>1</td>\n",
              "      <td>2</td>\n",
              "      <td>0</td>\n",
              "      <td>105.92</td>\n",
              "      <td>32.500000</td>\n",
              "      <td>2</td>\n",
              "      <td>1</td>\n",
              "    </tr>\n",
              "  </tbody>\n",
              "</table>\n",
              "</div>"
            ],
            "text/plain": [
              "   gender   age  hypertension  ...        bmi  smoking_status  stroke\n",
              "0       1  67.0             0  ...  36.600000               1       1\n",
              "1       0  61.0             0  ...  28.893237               2       1\n",
              "2       1  80.0             0  ...  32.500000               2       1\n",
              "\n",
              "[3 rows x 11 columns]"
            ]
          },
          "metadata": {},
          "execution_count": 22
        }
      ]
    },
    {
      "cell_type": "markdown",
      "metadata": {
        "id": "fiDtqruokkLf"
      },
      "source": [
        "# Preparing Test and Train sets\n"
      ]
    },
    {
      "cell_type": "markdown",
      "metadata": {
        "id": "3oK8Lay9j4ho"
      },
      "source": [
        "We prepare the test and train data sets.\n",
        "\n",
        "'labels' is the stroke column. np.ravel converts it to an array\n",
        "\n",
        "'strokeCol' is the column that is either 0 indicating the person had no stroke or 1 to indicate the person had a stroke\n"
      ]
    },
    {
      "cell_type": "code",
      "metadata": {
        "id": "hsf1oDvf7TBb"
      },
      "source": [
        "strokeCol = strokeData['stroke']\n",
        "X = strokeData.iloc[:, 0:10]\n",
        "\n",
        "y = np.ravel(strokeCol)"
      ],
      "execution_count": 23,
      "outputs": []
    },
    {
      "cell_type": "markdown",
      "metadata": {
        "id": "ss96O31TBqHj"
      },
      "source": [
        "Here we solve the imbalances of the data; i.e. stroke column"
      ]
    },
    {
      "cell_type": "code",
      "metadata": {
        "colab": {
          "base_uri": "https://localhost:8080/"
        },
        "id": "DDOSKu968jAP",
        "outputId": "ac2b8958-2093-4634-a28b-fb92802f88ef"
      },
      "source": [
        "from imblearn.over_sampling import SMOTE\n",
        "\n",
        "smote = SMOTE()\n",
        "\n",
        "X_smote, y_smote = smote.fit_resample(X, y)"
      ],
      "execution_count": 24,
      "outputs": [
        {
          "output_type": "stream",
          "name": "stderr",
          "text": [
            "/usr/local/lib/python3.7/dist-packages/sklearn/externals/six.py:31: FutureWarning: The module is deprecated in version 0.21 and will be removed in version 0.23 since we've dropped support for Python 2.7. Please rely on the official version of six (https://pypi.org/project/six/).\n",
            "  \"(https://pypi.org/project/six/).\", FutureWarning)\n",
            "/usr/local/lib/python3.7/dist-packages/sklearn/utils/deprecation.py:144: FutureWarning: The sklearn.neighbors.base module is  deprecated in version 0.22 and will be removed in version 0.24. The corresponding classes / functions should instead be imported from sklearn.neighbors. Anything that cannot be imported from sklearn.neighbors is now part of the private API.\n",
            "  warnings.warn(message, FutureWarning)\n",
            "/usr/local/lib/python3.7/dist-packages/sklearn/utils/deprecation.py:87: FutureWarning: Function safe_indexing is deprecated; safe_indexing is deprecated in version 0.22 and will be removed in version 0.24.\n",
            "  warnings.warn(msg, category=FutureWarning)\n"
          ]
        }
      ]
    },
    {
      "cell_type": "markdown",
      "metadata": {
        "id": "rpK06TVEBoZ5"
      },
      "source": [
        "\n",
        "test_size is 30% of overall dataset and is used to test accuracy of the model, random_state is set to 42"
      ]
    },
    {
      "cell_type": "code",
      "metadata": {
        "id": "ojpC7D80abRo"
      },
      "source": [
        "X_train, X_test, y_train, y_test = train_test_split(X_smote, \n",
        "                                                    y_smote,\n",
        "                                                    test_size=0.30, \n",
        "                                                    random_state=42) "
      ],
      "execution_count": 25,
      "outputs": []
    },
    {
      "cell_type": "markdown",
      "metadata": {
        "id": "no8IHTh_kU4k"
      },
      "source": [
        "**Normalize** the data sets using the sklearn libraries StandardScaler function\n",
        "\n",
        "This means for each value in the training and test data set and calculate the distance from the mean divided by the standard deviation.\n",
        "\n",
        "This puts the data on a standard scale."
      ]
    },
    {
      "cell_type": "code",
      "metadata": {
        "id": "mGpP9Yy2ac6_"
      },
      "source": [
        "scaler = StandardScaler().fit(X_train)\n",
        "X_train = scaler.transform(X_train)\n",
        "X_test = scaler.transform(X_test)\n",
        "\n",
        "# copy over the train and test sets for later use\n",
        "X_train_valid = X_train\n",
        "X_test_valid = X_test\n",
        "y_train_valid = y_train\n",
        "y_test_valid = y_test"
      ],
      "execution_count": 26,
      "outputs": []
    },
    {
      "cell_type": "markdown",
      "metadata": {
        "id": "jZ775Awcm1XM"
      },
      "source": [
        "# Network"
      ]
    },
    {
      "cell_type": "markdown",
      "metadata": {
        "id": "88IcCjqum6II"
      },
      "source": [
        "We create the Keras model by adding layers.\n",
        "We chose the Sequential model because we want a feed-forward traditional MLP network.\n",
        "\n",
        "We picked the activation function for each layer\n",
        "\n",
        "We chose Sigmoid as the activation function on the output layer as this is the common choice for binary classification problems."
      ]
    },
    {
      "cell_type": "code",
      "metadata": {
        "id": "zwGZVoflebrx"
      },
      "source": [
        "model = Sequential()\n",
        "\n",
        "model.add(Dense(50, activation='softmax', \n",
        "                input_shape=(10,), \n",
        "                kernel_initializer='he_normal'))\n",
        "model.add(Dense(30, activation='relu'))\n",
        "model.add(Dense(15, activation='relu'))\n",
        "model.add(Dense(1, activation='sigmoid'))"
      ],
      "execution_count": 27,
      "outputs": []
    },
    {
      "cell_type": "markdown",
      "metadata": {
        "id": "RiSYAWbCn_uM"
      },
      "source": [
        "**Loss function** \n",
        "\n",
        "We first decided that **binary_crossentropy** is the best choice as the stroke outcome is binary (0 or 1). But we later found out that MSE is also applicable and gives us a lower loss function.\n",
        "\n",
        "\n",
        "We tried using categorical_crossentropy and sparse_categorical_crossentropy but these did not perform well on the data.\n",
        "\n",
        "**Optimizer**\n",
        "\n",
        "optimizer is '**adam**' in order to attempt to minimize the loss function as fast as possible. This gave us the best accuracy and the least loss. *See below where we made a comparison between the optimizers.*\n",
        "\n",
        "**Metrics**\n",
        "\n",
        "We want to see the accuracy of the model as it runs.\n",
        "\n",
        "**Fitting/Training the model**\n",
        "\n",
        "Epochs sets the number of iterations of the model. We chose 50 epochs after some testing to get the best result without overfitting. We wanted to refine this however so we employed the EarlyStopper callback function from keras to stop fitting the model when the loss doesnt decrease enough from epoch to epoch. \n",
        "\n",
        "Batch size splits the data into batches and processes them in parallel. We set this to 16 as we got the best results with this.\n",
        "\n",
        "Verbose is boolean and logs the output so we set verbose to **true**.\n",
        "\n",
        "We set the validation_split to 0.2. This is using an automatic validation dataset on our binary classification.\n",
        "\n",
        "Shuffle will shuffle X_train, y_train. We don't shuffle the data as thw row number is our unique identifier for the rows and this is important for later on in the results section.\n"
      ]
    },
    {
      "cell_type": "code",
      "metadata": {
        "id": "1CDLxMO3gO7D",
        "colab": {
          "base_uri": "https://localhost:8080/"
        },
        "outputId": "e9e07293-54b4-4179-9c9b-15c03b0b8cf4"
      },
      "source": [
        "optimizer = Adam(learning_rate=0.04)\n",
        "model.compile(loss='mse',\n",
        "              optimizer=optimizer,\n",
        "              metrics=['accuracy'])\n",
        "\n",
        "EPOCHS = 50\n",
        "BATCH_SIZE = 16\n",
        "VERBOSE = 1\n",
        "\n",
        "es = EarlyStopping(monitor='val_loss', mode='min', verbose=1, patience=15)\n",
        "\n",
        "history = model.fit(X_train, y_train,\n",
        "          epochs=EPOCHS, \n",
        "          batch_size=BATCH_SIZE, \n",
        "          verbose=VERBOSE, \n",
        "          validation_split=0.20,\n",
        "          shuffle=False,\n",
        "          callbacks=[es])"
      ],
      "execution_count": 28,
      "outputs": [
        {
          "output_type": "stream",
          "name": "stdout",
          "text": [
            "Epoch 1/50\n",
            "341/341 [==============================] - 2s 2ms/step - loss: 0.1501 - accuracy: 0.7888 - val_loss: 0.1449 - val_accuracy: 0.8046\n",
            "Epoch 2/50\n",
            "341/341 [==============================] - 1s 2ms/step - loss: 0.1327 - accuracy: 0.8178 - val_loss: 0.1242 - val_accuracy: 0.8310\n",
            "Epoch 3/50\n",
            "341/341 [==============================] - 1s 2ms/step - loss: 0.1212 - accuracy: 0.8349 - val_loss: 0.1280 - val_accuracy: 0.8251\n",
            "Epoch 4/50\n",
            "341/341 [==============================] - 1s 2ms/step - loss: 0.1160 - accuracy: 0.8417 - val_loss: 0.1189 - val_accuracy: 0.8464\n",
            "Epoch 5/50\n",
            "341/341 [==============================] - 1s 2ms/step - loss: 0.1116 - accuracy: 0.8503 - val_loss: 0.1173 - val_accuracy: 0.8428\n",
            "Epoch 6/50\n",
            "341/341 [==============================] - 1s 2ms/step - loss: 0.1056 - accuracy: 0.8551 - val_loss: 0.1017 - val_accuracy: 0.8692\n",
            "Epoch 7/50\n",
            "341/341 [==============================] - 1s 2ms/step - loss: 0.1041 - accuracy: 0.8565 - val_loss: 0.1080 - val_accuracy: 0.8626\n",
            "Epoch 8/50\n",
            "341/341 [==============================] - 1s 2ms/step - loss: 0.0993 - accuracy: 0.8679 - val_loss: 0.0971 - val_accuracy: 0.8641\n",
            "Epoch 9/50\n",
            "341/341 [==============================] - 1s 2ms/step - loss: 0.0949 - accuracy: 0.8740 - val_loss: 0.0979 - val_accuracy: 0.8736\n",
            "Epoch 10/50\n",
            "341/341 [==============================] - 1s 2ms/step - loss: 0.0961 - accuracy: 0.8722 - val_loss: 0.0927 - val_accuracy: 0.8817\n",
            "Epoch 11/50\n",
            "341/341 [==============================] - 1s 2ms/step - loss: 0.0945 - accuracy: 0.8711 - val_loss: 0.0975 - val_accuracy: 0.8751\n",
            "Epoch 12/50\n",
            "341/341 [==============================] - 1s 2ms/step - loss: 0.0930 - accuracy: 0.8762 - val_loss: 0.0959 - val_accuracy: 0.8736\n",
            "Epoch 13/50\n",
            "341/341 [==============================] - 1s 2ms/step - loss: 0.0889 - accuracy: 0.8821 - val_loss: 0.1062 - val_accuracy: 0.8619\n",
            "Epoch 14/50\n",
            "341/341 [==============================] - 1s 2ms/step - loss: 0.0912 - accuracy: 0.8780 - val_loss: 0.0879 - val_accuracy: 0.8824\n",
            "Epoch 15/50\n",
            "341/341 [==============================] - 1s 2ms/step - loss: 0.0868 - accuracy: 0.8801 - val_loss: 0.0991 - val_accuracy: 0.8817\n",
            "Epoch 16/50\n",
            "341/341 [==============================] - 1s 2ms/step - loss: 0.0900 - accuracy: 0.8810 - val_loss: 0.0976 - val_accuracy: 0.8685\n",
            "Epoch 17/50\n",
            "341/341 [==============================] - 1s 2ms/step - loss: 0.0861 - accuracy: 0.8804 - val_loss: 0.0938 - val_accuracy: 0.8758\n",
            "Epoch 18/50\n",
            "341/341 [==============================] - 1s 2ms/step - loss: 0.0899 - accuracy: 0.8801 - val_loss: 0.1016 - val_accuracy: 0.8758\n",
            "Epoch 19/50\n",
            "341/341 [==============================] - 1s 2ms/step - loss: 0.0844 - accuracy: 0.8883 - val_loss: 0.0958 - val_accuracy: 0.8751\n",
            "Epoch 20/50\n",
            "341/341 [==============================] - 1s 2ms/step - loss: 0.0840 - accuracy: 0.8874 - val_loss: 0.0895 - val_accuracy: 0.8846\n",
            "Epoch 21/50\n",
            "341/341 [==============================] - 1s 2ms/step - loss: 0.0842 - accuracy: 0.8894 - val_loss: 0.0953 - val_accuracy: 0.8780\n",
            "Epoch 22/50\n",
            "341/341 [==============================] - 1s 2ms/step - loss: 0.0822 - accuracy: 0.8944 - val_loss: 0.0965 - val_accuracy: 0.8773\n",
            "Epoch 23/50\n",
            "341/341 [==============================] - 1s 2ms/step - loss: 0.0803 - accuracy: 0.8946 - val_loss: 0.0856 - val_accuracy: 0.8854\n",
            "Epoch 24/50\n",
            "341/341 [==============================] - 1s 2ms/step - loss: 0.0803 - accuracy: 0.8955 - val_loss: 0.0951 - val_accuracy: 0.8758\n",
            "Epoch 25/50\n",
            "341/341 [==============================] - 1s 2ms/step - loss: 0.0811 - accuracy: 0.8907 - val_loss: 0.0904 - val_accuracy: 0.8846\n",
            "Epoch 26/50\n",
            "341/341 [==============================] - 1s 2ms/step - loss: 0.0796 - accuracy: 0.8947 - val_loss: 0.0822 - val_accuracy: 0.8905\n",
            "Epoch 27/50\n",
            "341/341 [==============================] - 1s 2ms/step - loss: 0.0777 - accuracy: 0.8957 - val_loss: 0.0891 - val_accuracy: 0.8883\n",
            "Epoch 28/50\n",
            "341/341 [==============================] - 1s 2ms/step - loss: 0.0872 - accuracy: 0.8832 - val_loss: 0.0864 - val_accuracy: 0.8810\n",
            "Epoch 29/50\n",
            "341/341 [==============================] - 1s 2ms/step - loss: 0.0807 - accuracy: 0.8903 - val_loss: 0.0906 - val_accuracy: 0.8832\n",
            "Epoch 30/50\n",
            "341/341 [==============================] - 1s 2ms/step - loss: 0.0809 - accuracy: 0.8887 - val_loss: 0.0910 - val_accuracy: 0.8802\n",
            "Epoch 31/50\n",
            "341/341 [==============================] - 1s 2ms/step - loss: 0.0821 - accuracy: 0.8916 - val_loss: 0.0842 - val_accuracy: 0.8905\n",
            "Epoch 32/50\n",
            "341/341 [==============================] - 1s 2ms/step - loss: 0.0765 - accuracy: 0.8971 - val_loss: 0.0875 - val_accuracy: 0.8861\n",
            "Epoch 33/50\n",
            "341/341 [==============================] - 1s 2ms/step - loss: 0.0790 - accuracy: 0.8955 - val_loss: 0.0841 - val_accuracy: 0.8920\n",
            "Epoch 34/50\n",
            "341/341 [==============================] - 1s 2ms/step - loss: 0.0782 - accuracy: 0.8960 - val_loss: 0.0835 - val_accuracy: 0.8957\n",
            "Epoch 35/50\n",
            "341/341 [==============================] - 1s 2ms/step - loss: 0.0777 - accuracy: 0.8949 - val_loss: 0.0888 - val_accuracy: 0.8868\n",
            "Epoch 36/50\n",
            "341/341 [==============================] - 1s 2ms/step - loss: 0.0821 - accuracy: 0.8911 - val_loss: 0.0871 - val_accuracy: 0.8846\n",
            "Epoch 37/50\n",
            "341/341 [==============================] - 1s 2ms/step - loss: 0.0761 - accuracy: 0.8947 - val_loss: 0.0903 - val_accuracy: 0.8839\n",
            "Epoch 38/50\n",
            "341/341 [==============================] - 1s 2ms/step - loss: 0.0776 - accuracy: 0.8931 - val_loss: 0.0859 - val_accuracy: 0.8868\n",
            "Epoch 39/50\n",
            "341/341 [==============================] - 1s 2ms/step - loss: 0.0758 - accuracy: 0.8981 - val_loss: 0.0847 - val_accuracy: 0.8832\n",
            "Epoch 40/50\n",
            "341/341 [==============================] - 1s 2ms/step - loss: 0.0788 - accuracy: 0.8909 - val_loss: 0.0876 - val_accuracy: 0.8839\n",
            "Epoch 41/50\n",
            "341/341 [==============================] - 1s 2ms/step - loss: 0.0818 - accuracy: 0.8916 - val_loss: 0.0869 - val_accuracy: 0.8832\n",
            "Epoch 00041: early stopping\n"
          ]
        }
      ]
    },
    {
      "cell_type": "markdown",
      "metadata": {
        "id": "ti8XF4zXoM5d"
      },
      "source": [
        "Now we print a summary of the model to visualize the shape of the layers "
      ]
    },
    {
      "cell_type": "code",
      "metadata": {
        "id": "-8OC-oQXjkg0",
        "colab": {
          "base_uri": "https://localhost:8080/"
        },
        "outputId": "06cdbb18-5ce6-471d-b35e-4472a903799a"
      },
      "source": [
        "model.summary()"
      ],
      "execution_count": 29,
      "outputs": [
        {
          "output_type": "stream",
          "name": "stdout",
          "text": [
            "Model: \"sequential\"\n",
            "_________________________________________________________________\n",
            "Layer (type)                 Output Shape              Param #   \n",
            "=================================================================\n",
            "dense (Dense)                (None, 50)                550       \n",
            "_________________________________________________________________\n",
            "dense_1 (Dense)              (None, 30)                1530      \n",
            "_________________________________________________________________\n",
            "dense_2 (Dense)              (None, 15)                465       \n",
            "_________________________________________________________________\n",
            "dense_3 (Dense)              (None, 1)                 16        \n",
            "=================================================================\n",
            "Total params: 2,561\n",
            "Trainable params: 2,561\n",
            "Non-trainable params: 0\n",
            "_________________________________________________________________\n"
          ]
        }
      ]
    },
    {
      "cell_type": "markdown",
      "metadata": {
        "id": "OUxxj_ZNGegl"
      },
      "source": [
        "# Results\n",
        "\n",
        "Here we consider the results. \n",
        "\n",
        "Since we used a sigmoid activation function on the output layer of the sequential model and the does binary classification, we know that the threshold is 0.5. Therefore, \n",
        "we know that if the prediction value is > 0.5 then the model is predicting that based off the features, that person is likey to have a stroke.\n"
      ]
    },
    {
      "cell_type": "markdown",
      "metadata": {
        "id": "Rm-EAL0ooYTk"
      },
      "source": [
        "'y_pred' is an array containing the predictions from the \n",
        "model based on the test set."
      ]
    },
    {
      "cell_type": "code",
      "metadata": {
        "id": "UzVt01sNjwIW",
        "colab": {
          "base_uri": "https://localhost:8080/",
          "height": 363
        },
        "outputId": "be40b6e5-b49b-47fa-ab9a-93e992aba2ac"
      },
      "source": [
        "y_pred = model.predict(X_test)\n",
        "\n",
        "predictionsDF = pd.DataFrame(y_pred, columns=['prediction'])\n",
        "\n",
        "predictedStrokes = []\n",
        "for pred in (y_pred) :\n",
        "  if(pred > 0.5):\n",
        "    predictedStrokes.append(1)\n",
        "  else:\n",
        "    predictedStrokes.append(0)\n",
        "\n",
        "predictionsDF['predicted'] = (predictedStrokes)\n",
        "predictionsDF['actual'] = (y_test)\n",
        "\n",
        "predictionsDF.head(10)"
      ],
      "execution_count": 30,
      "outputs": [
        {
          "output_type": "execute_result",
          "data": {
            "text/html": [
              "<div>\n",
              "<style scoped>\n",
              "    .dataframe tbody tr th:only-of-type {\n",
              "        vertical-align: middle;\n",
              "    }\n",
              "\n",
              "    .dataframe tbody tr th {\n",
              "        vertical-align: top;\n",
              "    }\n",
              "\n",
              "    .dataframe thead th {\n",
              "        text-align: right;\n",
              "    }\n",
              "</style>\n",
              "<table border=\"1\" class=\"dataframe\">\n",
              "  <thead>\n",
              "    <tr style=\"text-align: right;\">\n",
              "      <th></th>\n",
              "      <th>prediction</th>\n",
              "      <th>predicted</th>\n",
              "      <th>actual</th>\n",
              "    </tr>\n",
              "  </thead>\n",
              "  <tbody>\n",
              "    <tr>\n",
              "      <th>0</th>\n",
              "      <td>2.273762e-08</td>\n",
              "      <td>0</td>\n",
              "      <td>0</td>\n",
              "    </tr>\n",
              "    <tr>\n",
              "      <th>1</th>\n",
              "      <td>4.299993e-01</td>\n",
              "      <td>0</td>\n",
              "      <td>1</td>\n",
              "    </tr>\n",
              "    <tr>\n",
              "      <th>2</th>\n",
              "      <td>1.296933e-01</td>\n",
              "      <td>0</td>\n",
              "      <td>0</td>\n",
              "    </tr>\n",
              "    <tr>\n",
              "      <th>3</th>\n",
              "      <td>2.353342e-08</td>\n",
              "      <td>0</td>\n",
              "      <td>0</td>\n",
              "    </tr>\n",
              "    <tr>\n",
              "      <th>4</th>\n",
              "      <td>9.161654e-01</td>\n",
              "      <td>1</td>\n",
              "      <td>1</td>\n",
              "    </tr>\n",
              "    <tr>\n",
              "      <th>5</th>\n",
              "      <td>7.203019e-01</td>\n",
              "      <td>1</td>\n",
              "      <td>1</td>\n",
              "    </tr>\n",
              "    <tr>\n",
              "      <th>6</th>\n",
              "      <td>9.436025e-05</td>\n",
              "      <td>0</td>\n",
              "      <td>0</td>\n",
              "    </tr>\n",
              "    <tr>\n",
              "      <th>7</th>\n",
              "      <td>6.305348e-01</td>\n",
              "      <td>1</td>\n",
              "      <td>0</td>\n",
              "    </tr>\n",
              "    <tr>\n",
              "      <th>8</th>\n",
              "      <td>9.991952e-01</td>\n",
              "      <td>1</td>\n",
              "      <td>1</td>\n",
              "    </tr>\n",
              "    <tr>\n",
              "      <th>9</th>\n",
              "      <td>6.305348e-01</td>\n",
              "      <td>1</td>\n",
              "      <td>0</td>\n",
              "    </tr>\n",
              "  </tbody>\n",
              "</table>\n",
              "</div>"
            ],
            "text/plain": [
              "     prediction  predicted  actual\n",
              "0  2.273762e-08          0       0\n",
              "1  4.299993e-01          0       1\n",
              "2  1.296933e-01          0       0\n",
              "3  2.353342e-08          0       0\n",
              "4  9.161654e-01          1       1\n",
              "5  7.203019e-01          1       1\n",
              "6  9.436025e-05          0       0\n",
              "7  6.305348e-01          1       0\n",
              "8  9.991952e-01          1       1\n",
              "9  6.305348e-01          1       0"
            ]
          },
          "metadata": {},
          "execution_count": 30
        }
      ]
    },
    {
      "cell_type": "markdown",
      "metadata": {
        "id": "KLltwB3-6XyI"
      },
      "source": [
        "Here we count how many predictions the model got right.\n",
        "\n",
        "We can see from this how much it got right and wrong."
      ]
    },
    {
      "cell_type": "code",
      "metadata": {
        "colab": {
          "base_uri": "https://localhost:8080/"
        },
        "id": "lP4RcO3Y6XBH",
        "outputId": "f57cecd5-aadc-4f1d-ced7-683a9447d401"
      },
      "source": [
        "comparison_column = np.where(\n",
        "    predictionsDF[\"predicted\"] == predictionsDF[\"actual\"], True, False)\n",
        "predictionsDF['predicted_correctly'] = comparison_column\n",
        "predictionsDF['predicted_correctly'].value_counts()"
      ],
      "execution_count": 31,
      "outputs": [
        {
          "output_type": "execute_result",
          "data": {
            "text/plain": [
              "True     2566\n",
              "False     351\n",
              "Name: predicted_correctly, dtype: int64"
            ]
          },
          "metadata": {},
          "execution_count": 31
        }
      ]
    },
    {
      "cell_type": "markdown",
      "metadata": {
        "id": "bUA-L8-2FGCF"
      },
      "source": [
        "Next we plot how the accuracy changed over the Epochs on both the train and test data."
      ]
    },
    {
      "cell_type": "code",
      "metadata": {
        "colab": {
          "base_uri": "https://localhost:8080/",
          "height": 279
        },
        "id": "6q15o74tEpIz",
        "outputId": "bf3733a4-046c-4054-f89b-2bbe964dc507"
      },
      "source": [
        "plt.plot(history.history['accuracy'])\n",
        "plt.plot(history.history['val_accuracy'])\n",
        "plt.ylabel('Accuracy')\n",
        "plt.xlabel('Epoch')\n",
        "plt.legend(['train', 'test'], loc='upper left')\n",
        "plt.show()"
      ],
      "execution_count": 32,
      "outputs": [
        {
          "output_type": "display_data",
          "data": {
            "image/png": "[encoded data removed]",
            "text/plain": [
              "<Figure size 432x288 with 1 Axes>"
            ]
          },
          "metadata": {
            "needs_background": "light"
          }
        }
      ]
    },
    {
      "cell_type": "markdown",
      "metadata": {
        "id": "eih2JOIAFlFU"
      },
      "source": [
        "Next we plot how the loss changed over the Epochs."
      ]
    },
    {
      "cell_type": "code",
      "metadata": {
        "colab": {
          "base_uri": "https://localhost:8080/",
          "height": 279
        },
        "id": "MBSIMbOmFXmb",
        "outputId": "5e764df9-331e-45cd-ceff-5c9af9d52f64"
      },
      "source": [
        "plt.plot(history.history['loss'])\n",
        "plt.plot(history.history['val_loss'])\n",
        "plt.ylabel('Loss')\n",
        "plt.xlabel('Epoch')\n",
        "plt.legend(['train', 'test'], loc='upper left')\n",
        "plt.show()"
      ],
      "execution_count": 33,
      "outputs": [
        {
          "output_type": "display_data",
          "data": {
            "image/png": "[encoded data removed]",
            "text/plain": [
              "<Figure size 432x288 with 1 Axes>"
            ]
          },
          "metadata": {
            "needs_background": "light"
          }
        }
      ]
    },
    {
      "cell_type": "markdown",
      "metadata": {
        "id": "MHimdDy8gqNh"
      },
      "source": [
        "Here we calculate metrics precision, recall and F1 score."
      ]
    },
    {
      "cell_type": "code",
      "metadata": {
        "colab": {
          "base_uri": "https://localhost:8080/"
        },
        "id": "9mwK50zEJz0g",
        "outputId": "c0f08f04-0dc8-4f11-d24b-bd019c43fada"
      },
      "source": [
        "from sklearn.metrics import precision_score, f1_score, recall_score\n",
        "\n",
        "precision = precision_score(y_test, predictedStrokes)\n",
        "print('Precision: %f' % precision)\n",
        "\n",
        "recall = recall_score(y_test, predictedStrokes)\n",
        "print('Recall: %f' % recall)\n",
        "\n",
        "f1 = f1_score(y_test, predictedStrokes)\n",
        "print('F1 score: %f' % f1)"
      ],
      "execution_count": 34,
      "outputs": [
        {
          "output_type": "stream",
          "name": "stdout",
          "text": [
            "Precision: 0.868439\n",
            "Recall: 0.895205\n",
            "F1 score: 0.881619\n"
          ]
        }
      ]
    },
    {
      "cell_type": "markdown",
      "metadata": {
        "id": "FPVzE1fSodyB"
      },
      "source": [
        "# Evaluation\n",
        "\n",
        "Evaluate the model on the test set\n",
        "\n",
        "Tracking Results with different hyper params:\n",
        "\n",
        "**Loss Function**\n",
        "1. Binary_crossentropy: 89% accuracy, 25% loss\n",
        "2. MSE: 89% accuracy, 8% loss\n",
        "\n",
        "We decided to chose MSE as to estimate the loss of the model so that the weights can be changed to reduce the loss.\n",
        "\n",
        "**Optimizers**:\n",
        "\n",
        "1. adam -> ~86.5% accuracy, 28% loss\n",
        "2. SGD -> ~77.6% accuracy and 47% loss\n",
        "3. RMSProp -> ~86.6% accuracy, 31% loss\n",
        "4. adamax -> 82% accuracy, 40% loss\n",
        "\n",
        "We decided to pick the one with the least loss.\n",
        "\n",
        "**Epochs**\n",
        "\n",
        "Next we looked at the number of Epochs to try to figure out where the sweet spot is between underfitting and overfitting\n",
        "\n",
        "We discovered that at about Epoch 50 the accuracy and loss begins to improve at a much slower rate. Therefore we decided to choose to do 40 Epochs.\n",
        "\n",
        "**Batch Size**\n",
        "\n",
        "We increased the batch size and quickly noticed the accuracy reducing. Therefore we decided on a batch size of 16 in order to speed up computation while maintaining good accuracy."
      ]
    },
    {
      "cell_type": "code",
      "metadata": {
        "id": "2RAAu4Wzjyo5",
        "colab": {
          "base_uri": "https://localhost:8080/"
        },
        "outputId": "fc0f5cb2-28aa-4f1c-d7d1-e559aa43fa10"
      },
      "source": [
        "test_accuracy = model.evaluate(X_test, y_test, verbose=0)\n",
        "print(\"\\n-- ACCURACY OF MODEL ON TEST SET --\")\n",
        "print(\"Accuracy: \", test_accuracy[1]*100, \"%\")\n",
        "print(\"Loss: \", test_accuracy[0]*100, \"%\")"
      ],
      "execution_count": 35,
      "outputs": [
        {
          "output_type": "stream",
          "name": "stdout",
          "text": [
            "\n",
            "-- ACCURACY OF MODEL ON TEST SET --\n",
            "Accuracy:  87.96709179878235 %\n",
            "Loss:  8.91234427690506 %\n"
          ]
        }
      ]
    },
    {
      "cell_type": "markdown",
      "metadata": {
        "id": "CLyl5tJmGM42"
      },
      "source": [
        "**Check for overfitting and underfitting**\n",
        "\n",
        "A model is thought to be overfitting if your validation loss has been increasing and underfit is the validation loss is still decreasing.\n",
        "\n",
        "While we did use the EarlyStopper to chose a good stopping point for the model, we wanted to confirm our choice by doing a big number of Epochs and visualising where the best point in the curve is.\n"
      ]
    },
    {
      "cell_type": "markdown",
      "metadata": {
        "id": "vSOzbMECMkAE"
      },
      "source": [
        "Here we will make a similar MLP model but this time it will have extra epochs so that we can visualize where underfitting and overfitting is. From this we can see that our choice of about 50 epochs seems efficient."
      ]
    },
    {
      "cell_type": "code",
      "metadata": {
        "id": "Wzgl_WnuMe27"
      },
      "source": [
        "temp_model = Sequential()\n",
        "\n",
        "temp_model.add(Dense(50, activation='softmax', \n",
        "                input_shape=(10,), \n",
        "                kernel_initializer='he_normal'))\n",
        "temp_model.add(Dense(30, activation='relu'))\n",
        "temp_model.add(Dense(1, activation='sigmoid'))\n",
        "\n",
        "temp_optimizer = Adam(learning_rate=0.04)\n",
        "temp_model.compile(loss='mse',\n",
        "              optimizer=temp_optimizer)\n",
        "\n",
        "bigHistory = temp_model.fit(X_train, y_train,\n",
        "          epochs=150, \n",
        "          batch_size=BATCH_SIZE, \n",
        "          verbose=0, \n",
        "          validation_split=0.20,\n",
        "          shuffle=False)\n"
      ],
      "execution_count": 36,
      "outputs": []
    },
    {
      "cell_type": "markdown",
      "metadata": {
        "id": "hejR-Pf5MfOx"
      },
      "source": [
        "Plot the validation set loss over the epochs"
      ]
    },
    {
      "cell_type": "code",
      "metadata": {
        "colab": {
          "base_uri": "https://localhost:8080/",
          "height": 279
        },
        "id": "DnlnT3fdMVXq",
        "outputId": "09cfbff8-25d3-4773-9ef4-08bd8dcf20a9"
      },
      "source": [
        "plt.plot(bigHistory.history['val_loss'])\n",
        "plt.ylabel('Loss')\n",
        "plt.xlabel('Epoch')\n",
        "plt.legend(['validation'], loc='upper left')\n",
        "plt.show()"
      ],
      "execution_count": 37,
      "outputs": [
        {
          "output_type": "display_data",
          "data": {
            "image/png": "[encoded data removed]",
            "text/plain": [
              "<Figure size 432x288 with 1 Axes>"
            ]
          },
          "metadata": {
            "needs_background": "light"
          }
        }
      ]
    },
    {
      "cell_type": "markdown",
      "metadata": {
        "id": "-lJ-ZfdqQ21A"
      },
      "source": [
        "From this it seems that maybe about 40-50 Epochs will give the best result. The curve seems to level out from there on. "
      ]
    },
    {
      "cell_type": "markdown",
      "metadata": {
        "id": "7hifHhXbdozw"
      },
      "source": [
        "# Experimentations"
      ]
    },
    {
      "cell_type": "markdown",
      "metadata": {
        "id": "HSu7I5OyDHyP"
      },
      "source": [
        "1. We experimented with changing the size of the test set data from 0.3 to 0.2 and we found that the accuracy went down as the model was overfitting on the training data.\n",
        "\n",
        "2. At first we made the model with just one hidden layer and as a result we got a loss of ~ 50%. This indicated the model was underfitting.\n",
        "\n",
        "3. By adding another layer, we got the loss down to ~40% and improved the accuracy by 10%\n",
        "\n",
        "4. We tried different numbers of neurons on the layers and found that the current implementation was best.\n",
        "\n",
        "5. We attempted a linear regression on the data as at the start we were thinking the data might be linearly classifiable. We were incorrect. (See below)"
      ]
    },
    {
      "cell_type": "markdown",
      "metadata": {
        "id": "XN6pzJW-zzYx"
      },
      "source": [
        "#### Linear Regression\n",
        "\n",
        "Here we attempt to apply the LinearRegression model to the data set to see if the data is linearly predictable.\n",
        "\n",
        "We got about 9% accuracy with this model so we decided that this is not a good choice."
      ]
    },
    {
      "cell_type": "code",
      "metadata": {
        "id": "gL2EHS-fdn29",
        "colab": {
          "base_uri": "https://localhost:8080/"
        },
        "outputId": "58e879ca-d3ef-4cf5-a9de-b7be46942718"
      },
      "source": [
        "from sklearn.linear_model import LinearRegression\n",
        "from sklearn import datasets\n",
        "from sklearn.metrics import mean_squared_error, r2_score\n",
        "\n",
        "strokeCol = strokeData['stroke']\n",
        "X = strokeData.iloc[:, 0:10]\n",
        "\n",
        "y = np.ravel(strokeCol)\n",
        "\n",
        "X_train, X_test, y_train, y_test = train_test_split(X, \n",
        "                                                    y,\n",
        "                                                    test_size=0.20, \n",
        "                                                    random_state=42) \n",
        "\n",
        "regr = LinearRegression()\n",
        "\n",
        "# Train the model using the train sets\n",
        "regr.fit(X_train, y_train)\n",
        "\n",
        "# Make predictions using the test set\n",
        "y_pred_linear = regr.predict(X_test)\n",
        "\n",
        "regr.score(X_test, y_test)"
      ],
      "execution_count": 38,
      "outputs": [
        {
          "output_type": "execute_result",
          "data": {
            "text/plain": [
              "0.09360992204574692"
            ]
          },
          "metadata": {},
          "execution_count": 38
        }
      ]
    },
    {
      "cell_type": "markdown",
      "metadata": {
        "id": "V6boaq7pGBNo"
      },
      "source": [
        "# Findings\n",
        "\n",
        "1. Increasing the batch size reduces the computation time of the MLP\n",
        "2. Since we are dealing with a binary classification problem, we chose to either do binary_crossentropy or MSE. If we use one such as categorical_crossentropy or sparse_categorical_crossentropy they cause the model to behave strangely. \n",
        "3. We were getting 0.953 accuracy without fail even with just one layer on the MLP but what was happening was just that there was a huge imbalance in the data on the stroke column. There was only a few hundred data rows with strokes and the rest had no stroke so we needed to employ a SMOTE to refit the data to try and balance the data.\n",
        "4. Towards the end of this 2 week project, we tried out the MSE loss function and we reduced the loss from about 25% to 9%. "
      ]
    }
  ]
}